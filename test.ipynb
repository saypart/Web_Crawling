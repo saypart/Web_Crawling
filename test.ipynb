{
 "cells": [
  {
   "cell_type": "code",
   "execution_count": 12,
   "metadata": {},
   "outputs": [],
   "source": [
    "import pandas     #\n",
    "import selenium   # 웹페이지 자동화 툴\n",
    "import bs4        # 웹 스크래핑 및 데이터 추출\n",
    "import openpyxl  # 엑셀파일을 불러오고 데이터를 입력\n",
    "import selenium.webdriver \n",
    "import time  \n",
    "\n",
    "# 크롬 web driver 객체 생성\n",
    "driver = selenium.webdriver.Chrome()"
   ]
  },
  {
   "cell_type": "markdown",
   "metadata": {},
   "source": [
    "정적 페이지 크롤링 requests\n",
    "동적 페이지 크롤링 bs4\n",
    "\n",
    "동적 페이지 크롤링\n",
    "\n",
    "1.웹드라이버 생성\n",
    "2.웹드라이버의 브라우저를 이용하여 목표 주소로 이동\n",
    "3.동적콘텐츠 로딩\n",
    "4.필요시 상호 작용(클릭 스킄롤 검색등)"
   ]
  },
  {
   "cell_type": "code",
   "execution_count": null,
   "metadata": {},
   "outputs": [],
   "source": [
    "# 페이지 이동 앞뒤이동\n",
    "url = \"https://www.naver.com/\"\n",
    "driver.get(url)\n",
    "\n",
    "time.sleep(1)\n",
    "url = \"https://www.google.com/\"\n",
    "driver.get(url)\n",
    "\n",
    "time.sleep(1)\n",
    "driver.back()\n",
    "\n",
    "time.sleep(1)\n",
    "driver.forward()\n",
    "\n",
    "time.sleep(1)\n",
    "driver.maximize_window()\n",
    "\n",
    "time.sleep(1)\n",
    "driver.minimize_window()\n",
    "\n",
    "time.sleep(1)\n",
    "driver.quit()\n"
   ]
  },
  {
   "cell_type": "code",
   "execution_count": 20,
   "metadata": {},
   "outputs": [],
   "source": [
    "#네이버 뉴스\n",
    "from selenium.webdriver.common.by import By\n",
    "\n",
    "driver = selenium.webdriver.Chrome()\n",
    "\n",
    "url = \"https://www.naver.com/\"\n",
    "driver.get(url)\n",
    "\n",
    "\n",
    "driver.find_element(By.CSS_SELECTOR, '.service_icon.type_news').click()\n",
    "# 부모 요소 출력"
   ]
  },
  {
   "cell_type": "code",
   "execution_count": 28,
   "metadata": {},
   "outputs": [],
   "source": [
    "#네이버 로그인 \n",
    "from selenium.webdriver.common.by import By\n",
    "driver = selenium.webdriver.Chrome()\n",
    "driver.get(\"https://www.naver.com/\")\n",
    "\n",
    "driver.find_element(By.CSS_SELECTOR, '.MyView-module__link_login___HpHMW').click()"
   ]
  },
  {
   "cell_type": "code",
   "execution_count": null,
   "metadata": {},
   "outputs": [],
   "source": []
  }
 ],
 "metadata": {
  "kernelspec": {
   "display_name": "Python 3",
   "language": "python",
   "name": "python3"
  },
  "language_info": {
   "codemirror_mode": {
    "name": "ipython",
    "version": 3
   },
   "file_extension": ".py",
   "mimetype": "text/x-python",
   "name": "python",
   "nbconvert_exporter": "python",
   "pygments_lexer": "ipython3",
   "version": "3.12.3"
  }
 },
 "nbformat": 4,
 "nbformat_minor": 2
}
