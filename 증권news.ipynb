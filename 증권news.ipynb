{
 "cells": [
  {
   "cell_type": "code",
   "execution_count": 37,
   "metadata": {},
   "outputs": [],
   "source": [
    "import pandas     #\n",
    "import selenium   # 웹페이지 자동화 툴\n",
    "import bs4        # 웹 스크래핑 및 데이터 추출\n",
    "import openpyxl  # 엑셀파일을 불러오고 데이터를 입력\n",
    "import selenium.webdriver \n",
    "import time  \n",
    "from selenium.webdriver.common.by import By\n",
    "from bs4 import BeautifulSoup\n",
    "\n",
    "#크롬 웹 드라이버 객체 생성\n",
    "driver = selenium.webdriver.Chrome()\n",
    "#페이지 이동\n",
    "driver.get(\"https://finance.naver.com/news/mainnews.naver\")\n",
    "\n",
    "#브라우저 크기 최대화\n",
    "driver.maximize_window()\n",
    "time.sleep(1)"
   ]
  },
  {
   "cell_type": "code",
   "execution_count": null,
   "metadata": {},
   "outputs": [],
   "source": [
    "# HTML 문자열을 파싱하여  BeautifulSoup 객체 생성\n",
    "html = driver.page_source\n",
    "soup = BeautifulSoup(html, 'html.parser')\n",
    "\n",
    "print(soup.select_one(\".articleSubject\").text.strip('\\n'))\n",
    "\n",
    "print(soup.select_one(\".articleSubject>a\").attrs[\"href\"])\n",
    "\n",
    "print(soup.select(\".articleSubject\"))\n",
    "\n",
    "\n"
   ]
  },
  {
   "cell_type": "code",
   "execution_count": null,
   "metadata": {},
   "outputs": [],
   "source": [
    "input_date = input(\"검색할 날짜 (YYYY-MM-DD)-->\")\n",
    "url = \"https://finance.naver.com/news/mainnews.naver?date=\"+input_date\n",
    "driver.get(url)\n",
    "\n",
    "html = driver.page_source\n",
    "soup = BeautifulSoup(html, 'html.parser')\n",
    "\n",
    "articles = soup.select(\".block1\")\n",
    "for articles in articles:\n",
    "    title = articles.select_one(\".articleSubject\").text.strip('\\n')\n",
    "    url = articles.select_one(\".articleSubject>a\").attrs[\"href\"]\n",
    "    summary = articles.select_one(\".articleSummary\").contents[0].text.strip()\n",
    "    press = articles.select_one(\".press\").text\n",
    "    date = articles.select_one(\".wdate\").text\n",
    "\n",
    "    print(title,url, summary,press,date)"
   ]
  },
  {
   "cell_type": "code",
   "execution_count": 48,
   "metadata": {},
   "outputs": [
    {
     "name": "stdout",
     "output_type": "stream",
     "text": [
      "1\n",
      "2\n",
      "3\n",
      "4\n",
      "5\n"
     ]
    }
   ],
   "source": [
    "#페이지 초기값 지정\n",
    "page =1\n",
    "article_list = []\n",
    "#날짜 입력하기\n",
    "input_date = input(\"검색할 날짜 (YYYY-MM-DD)-->\")\n",
    "while True:\n",
    "    time.sleep(3)\n",
    "    #페이지 이동\n",
    "    url = f\"https://finance.naver.com/news/mainnews.naver?date={input_date}&page={page}\"\n",
    "    driver.get(url)\n",
    "    \n",
    "    #파일 파싱\n",
    "    html = driver.page_source\n",
    "    soup = BeautifulSoup(html, 'html.parser')\n",
    "    articles = soup.select(\".block1\")\n",
    "\n",
    "    #페이내에의 block1를 순회하며 각 종류별 데이터 수집\n",
    "    for articles in articles:\n",
    "        title = articles.select_one(\".articleSubject\").text.strip('\\n')\n",
    "        url = articles.select_one(\".articleSubject>a\").attrs[\"href\"]\n",
    "        summary = articles.select_one(\".articleSummary\").contents[0].text.strip()\n",
    "        press = articles.select_one(\".press\").text\n",
    "        date = articles.select_one(\".wdate\").text\n",
    "        article_list.append([title,url,summary,press,date])\n",
    "\n",
    "    print(page)\n",
    "    page += 1\n",
    "    if page==6: break\n",
    "\n"
   ]
  },
  {
   "cell_type": "code",
   "execution_count": 56,
   "metadata": {},
   "outputs": [],
   "source": [
    "import pandas as pd\n",
    "news_cr = pd.DataFrame(article_list)\n",
    "news_cr.columns = ['제목','링크','요약','신문사','날짜']\n",
    "news_cr.to_excel('news_cr.xlsx')"
   ]
  },
  {
   "cell_type": "code",
   "execution_count": null,
   "metadata": {},
   "outputs": [],
   "source": []
  }
 ],
 "metadata": {
  "kernelspec": {
   "display_name": "Python 3",
   "language": "python",
   "name": "python3"
  },
  "language_info": {
   "codemirror_mode": {
    "name": "ipython",
    "version": 3
   },
   "file_extension": ".py",
   "mimetype": "text/x-python",
   "name": "python",
   "nbconvert_exporter": "python",
   "pygments_lexer": "ipython3",
   "version": "3.12.3"
  }
 },
 "nbformat": 4,
 "nbformat_minor": 2
}
